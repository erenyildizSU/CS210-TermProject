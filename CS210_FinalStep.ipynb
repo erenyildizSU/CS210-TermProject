{
 "cells": [
  {
   "cell_type": "code",
   "execution_count": null,
   "metadata": {
    "colab": {
     "base_uri": "https://localhost:8080/"
    },
    "id": "KJQ48uc_rE8r",
    "outputId": "32189a62-6c56-4710-8475-53996a9b476d"
   },
   "outputs": [],
   "source": [
    "from google.colab import drive\n",
    "drive.mount(\"/content/drive\", force_remount=True)\n",
    "\n",
    "# to be used a prefix for all files\n",
    "path_prefix = \"/content/drive/My Drive/CS210-Project\""
   ]
  },
  {
   "cell_type": "code",
   "execution_count": null,
   "metadata": {
    "id": "63Rryg4qrI6y"
   },
   "outputs": [],
   "source": [
    "# Adding some libraries and methods to use\n",
    "\n",
    "import pandas as pd\n",
    "import numpy as np\n",
    "import matplotlib.pyplot as plt\n",
    "import seaborn as sns\n",
    "from scipy import stats\n",
    "from scipy import special\n",
    "from ipywidgets import interact\n",
    "from sklearn.model_selection import train_test_split\n",
    "from sklearn.linear_model import LinearRegression\n",
    "from sklearn import metrics\n",
    "\n",
    "from os.path import join\n",
    "\n",
    "import warnings\n",
    "warnings.simplefilter('ignore')\n",
    "\n",
    "%matplotlib inline\n",
    "\n"
   ]
  },
  {
   "cell_type": "code",
   "execution_count": null,
   "metadata": {
    "colab": {
     "base_uri": "https://localhost:8080/"
    },
    "id": "r9v7P8_erJRM",
    "outputId": "3c8d1017-22e9-4e94-8851-05d06531f086"
   },
   "outputs": [],
   "source": [
    "from google.colab import drive\n",
    "drive.mount('/content/drive')"
   ]
  },
  {
   "cell_type": "code",
   "execution_count": null,
   "metadata": {
    "colab": {
     "base_uri": "https://localhost:8080/",
     "height": 430
    },
    "id": "XtZlEqdzri_L",
    "outputId": "2f7141e3-4540-43e8-b1e3-d34d20df184f"
   },
   "outputs": [],
   "source": [
    "#  Given Dataset\n",
    "fname = \"Stock Market_Dataset from Hoca2.csv\"\n",
    "\n",
    "df = pd.read_csv(join(path_prefix, fname), encoding = \"utf-8\")\n",
    "df.head(10)"
   ]
  },
  {
   "cell_type": "code",
   "execution_count": null,
   "metadata": {
    "colab": {
     "base_uri": "https://localhost:8080/",
     "height": 206
    },
    "id": "iWUwpV75rk6b",
    "outputId": "662419b6-deb8-4342-a00a-9dd6c14c1563"
   },
   "outputs": [],
   "source": [
    "# I take Date and Bitcoin_Price from provided data set.\n",
    "\n",
    "file_path = '/content/drive/My Drive/CS210-Project/Stock Market_Dataset from Hoca2.csv'\n",
    "data = pd.read_csv(file_path)\n",
    "\n",
    "# Select the 'Date' and 'Bitcoin_Price' columns\n",
    "btc_selected_data = data[['Date', 'Bitcoin_Price']]\n",
    "\n",
    "# Show the first few rows of the selected data\n",
    "btc_selected_data.head()"
   ]
  },
  {
   "cell_type": "code",
   "execution_count": null,
   "metadata": {
    "colab": {
     "base_uri": "https://localhost:8080/",
     "height": 424
    },
    "id": "a9P8LheyzlNz",
    "outputId": "fb30d8e6-f72d-4cb2-f613-ac45956ebfba"
   },
   "outputs": [],
   "source": [
    "# Extract 'Date' and 'Bitcoin_Price' columns\n",
    "bitcoin_data = data[['Date', 'Bitcoin_Price']].copy()\n",
    "\n",
    "# Remove commas from 'Bitcoin_Price' and convert to float\n",
    "bitcoin_data['Bitcoin_Price'] = bitcoin_data['Bitcoin_Price'].replace(',', '', regex=True).astype(float)\n",
    "\n",
    "# Convert 'Date' to datetime format if not already\n",
    "bitcoin_data['Date'] = pd.to_datetime(bitcoin_data['Date'], errors='coerce')\n",
    "\n",
    "# Set 'Date' as the index\n",
    "bitcoin_data.set_index('Date', inplace=True)\n",
    "\n",
    "# Resample data to weekly frequency, using the mean for each week\n",
    "weekly_bitcoin_data = bitcoin_data.resample('W').mean()\n",
    "\n",
    "weekly_bitcoin_data = weekly_bitcoin_data.reset_index()\n",
    "\n",
    "# Display the processed data\n",
    "weekly_bitcoin_data.head(350)\n"
   ]
  },
  {
   "cell_type": "code",
   "execution_count": null,
   "metadata": {
    "colab": {
     "base_uri": "https://localhost:8080/",
     "height": 641
    },
    "id": "bitpnJBV3WCx",
    "outputId": "d8457fbe-9d97-4b33-b2d7-24f9114955d5"
   },
   "outputs": [],
   "source": [
    "# @title Bitcoin_Price\n",
    "\n",
    "from matplotlib import pyplot as plt\n",
    "merged_data['Bitcoin_Price'].plot(kind='line', figsize=(14, 7), color='orange')\n",
    "plt.gca().spines[['top', 'right']].set_visible(False)\n",
    "plt.title('Weekly Bitcoin Prices (2019-2024)')\n",
    "plt.xlabel('Date')\n",
    "plt.ylabel('Bitcoin Price')\n",
    "plt.legend()\n",
    "plt.show()"
   ]
  },
  {
   "cell_type": "code",
   "execution_count": null,
   "metadata": {
    "colab": {
     "base_uri": "https://localhost:8080/",
     "height": 452
    },
    "id": "7PYk3qHt3ram",
    "outputId": "fc9ce876-34b3-466a-8112-66e0badabf73"
   },
   "outputs": [],
   "source": [
    "#Histogram of Bitcoin Price\n",
    "\n",
    "from matplotlib import pyplot as plt\n",
    "weekly_bitcoin_data['Bitcoin_Price'].plot(kind='hist', bins=20, color=\"orange\", title='Bitcoin Price')\n",
    "plt.gca().spines[['top', 'right',]].set_visible(False)"
   ]
  },
  {
   "cell_type": "code",
   "execution_count": null,
   "metadata": {
    "colab": {
     "base_uri": "https://localhost:8080/"
    },
    "id": "S6vDqjFBrpNc",
    "outputId": "d2d754d6-7d13-4ebf-de1d-e45dbf36b5ec"
   },
   "outputs": [],
   "source": [
    "weekly_bitcoin_data.columns"
   ]
  },
  {
   "cell_type": "code",
   "execution_count": null,
   "metadata": {
    "colab": {
     "base_uri": "https://localhost:8080/"
    },
    "id": "2B1ltfYnrrZD",
    "outputId": "1282f0d5-3cb2-40af-89a6-3e5e3ed5f1ec"
   },
   "outputs": [],
   "source": [
    "print(weekly_bitcoin_data.info())"
   ]
  },
  {
   "cell_type": "code",
   "execution_count": null,
   "metadata": {
    "colab": {
     "base_uri": "https://localhost:8080/"
    },
    "id": "FymvDVZZrrkD",
    "outputId": "e2e70bc5-0107-41a2-d0a1-a160fb871d9d"
   },
   "outputs": [],
   "source": [
    "print(weekly_bitcoin_data.describe())"
   ]
  },
  {
   "cell_type": "markdown",
   "metadata": {
    "id": "7vRJYHujOhbp"
   },
   "source": [
    "# Second Data - Google Trends\n",
    "\n",
    "My second data shows crypto currency interest in google search."
   ]
  },
  {
   "cell_type": "code",
   "execution_count": null,
   "metadata": {
    "colab": {
     "base_uri": "https://localhost:8080/",
     "height": 206
    },
    "id": "-22DfS0M3roQ",
    "outputId": "22ccae5f-dcd6-4816-bf03-6fb8e09d8dfb"
   },
   "outputs": [],
   "source": [
    "google_data = pd.read_csv('/content/drive/MyDrive/CS210-Project/Google Crypto Currency Interest Dataset.csv')\n",
    "google_data.head()"
   ]
  },
  {
   "cell_type": "code",
   "execution_count": null,
   "metadata": {
    "colab": {
     "base_uri": "https://localhost:8080/",
     "height": 452
    },
    "id": "MvOTggsL3r49",
    "outputId": "456c5172-185e-48fe-ae19-d74be0c0189f"
   },
   "outputs": [],
   "source": [
    "# @title Crypto Currency Interest: (Worldwide)\n",
    "\n",
    "from matplotlib import pyplot as plt\n",
    "google_data['Crypto Currency Interest: (Worldwide)'].plot(kind='hist', bins=20, color= \"green\", title='Crypto Currency Interest: (Worldwide)')\n",
    "plt.gca().spines[['top', 'right',]].set_visible(False)"
   ]
  },
  {
   "cell_type": "markdown",
   "metadata": {
    "id": "ioIJPhy4w2my"
   },
   "source": [
    "# **Merge both datasets**\n",
    "\n",
    "Data Merge process to work on and compare two data more easily. For this process, I found the date range that the two data have in common (05.05.2019 - 04.02.2024). Then, I took the weekly average of the daily bitcoin data based on the dates corresponding to the google_trends data. So, I have two weekly datasets with the same dates."
   ]
  },
  {
   "cell_type": "code",
   "execution_count": null,
   "metadata": {
    "colab": {
     "base_uri": "https://localhost:8080/",
     "height": 520
    },
    "id": "Ce7DLuDsWXsb",
    "outputId": "795cadb7-09e3-4539-d432-9f8dec147311"
   },
   "outputs": [],
   "source": [
    "import pandas as pd\n",
    "\n",
    "# Load the datasets\n",
    "google_crypto_interest = pd.read_csv('/content/Google_Crypto Currency Interest Dataset.csv')\n",
    "stock_market = pd.read_csv('/content/Stock Market Dataset True.csv')\n",
    "\n",
    "# Clean and reformat the Google Crypto Currency Interest dataset\n",
    "google_crypto_interest_cleaned = pd.read_csv('/content/Google_Crypto Currency Interest Dataset.csv', delimiter=';')\n",
    "\n",
    "# Convert the Date columns to datetime format\n",
    "google_crypto_interest_cleaned['Date'] = pd.to_datetime(google_crypto_interest_cleaned['Date'], dayfirst=True)\n",
    "stock_market['Date'] = pd.to_datetime(stock_market['Date'], dayfirst=True)\n",
    "\n",
    "# Select only the Bitcoin_Price and Date columns from the stock market dataset\n",
    "stock_market_filtered = stock_market[['Date', 'Bitcoin_Price']]\n",
    "\n",
    "# Convert Bitcoin_Price to numeric by removing commas and converting to float\n",
    "stock_market_filtered['Bitcoin_Price'] = stock_market_filtered['Bitcoin_Price'].str.replace(',', '').astype(float)\n",
    "\n",
    "# Aggregate the stock market data to weekly format, aligning to the same start date\n",
    "stock_market_weekly = stock_market_filtered.resample('W-SUN', on='Date').mean().reset_index()\n",
    "\n",
    "# Merge the two datasets on the weekly date\n",
    "merged_data = pd.merge(google_crypto_interest_cleaned, stock_market_weekly, on='Date', how='inner')\n",
    "\n",
    "# Display the first few rows of the merged dataset\n",
    "merged_data.head(15)\n"
   ]
  },
  {
   "cell_type": "code",
   "execution_count": null,
   "metadata": {
    "colab": {
     "base_uri": "https://localhost:8080/",
     "height": 206
    },
    "id": "9lCgWL8Wzw2L",
    "outputId": "5516704d-9f93-42a0-e968-37560fb849e8"
   },
   "outputs": [],
   "source": [
    "merged_data.tail()"
   ]
  },
  {
   "cell_type": "code",
   "execution_count": null,
   "metadata": {
    "colab": {
     "base_uri": "https://localhost:8080/",
     "height": 424
    },
    "id": "kKY3soPJKixh",
    "outputId": "0e896f3f-d948-4031-85d0-93c01c2160f2"
   },
   "outputs": [],
   "source": [
    "merged_data.to_csv(\"/content/merged.csv\")\n",
    "merged_data.head(150)"
   ]
  },
  {
   "cell_type": "code",
   "execution_count": null,
   "metadata": {
    "colab": {
     "base_uri": "https://localhost:8080/",
     "height": 450
    },
    "id": "pDG5qRIR30oJ",
    "outputId": "2985a203-1da4-4458-e3ae-58e22df2d044"
   },
   "outputs": [],
   "source": [
    "# @title Bitcoin_Price vs Crypto Currency Interest: (Worldwide)\n",
    "\n",
    "from matplotlib import pyplot as plt\n",
    "merged_data.plot(kind='scatter', x='Bitcoin_Price', y='Crypto Currency Interest: (Worldwide)', s=32, alpha=.8)\n",
    "plt.gca().spines[['top', 'right',]].set_visible(False)"
   ]
  },
  {
   "cell_type": "code",
   "execution_count": null,
   "metadata": {
    "colab": {
     "base_uri": "https://localhost:8080/",
     "height": 622
    },
    "id": "zLyG16fl300r",
    "outputId": "66f96a4f-29cc-40e7-e83e-d9ff37932243"
   },
   "outputs": [],
   "source": [
    "# @title Crypto Currency Interest: (Worldwide)\n",
    "\n",
    "from matplotlib import pyplot as plt\n",
    "merged_data['Crypto Currency Interest: (Worldwide)'].plot(kind='line', figsize=(14, 7), color=\"green\", title='Crypto Currency Interest: (Worldwide)')\n",
    "plt.gca().spines[['top', 'right']].set_visible(False)"
   ]
  },
  {
   "cell_type": "code",
   "execution_count": null,
   "metadata": {
    "colab": {
     "base_uri": "https://localhost:8080/",
     "height": 530
    },
    "id": "_IntraVz31Ez",
    "outputId": "972cf380-0cb6-4698-ec82-6198c4daced1"
   },
   "outputs": [],
   "source": [
    "# Let's check if Bitcoin_Price and Crypto Currency Interest are correlated.\n",
    "cols = [\"Bitcoin_Price\", \"Crypto Currency Interest: (Worldwide)\"]\n",
    "sns.pairplot(data=merged_data, vars=cols)"
   ]
  },
  {
   "cell_type": "code",
   "execution_count": null,
   "metadata": {
    "colab": {
     "base_uri": "https://localhost:8080/"
    },
    "id": "pyMBE94r356g",
    "outputId": "60750bf2-7501-49d5-80a6-d5dda2907e3d"
   },
   "outputs": [],
   "source": [
    "# Calculation of correlation coefficient and p-value from our recit code\n",
    "\n",
    "stats.pearsonr(merged_data[\"Bitcoin_Price\"], merged_data[\"Crypto Currency Interest: (Worldwide)\"])"
   ]
  },
  {
   "cell_type": "code",
   "execution_count": null,
   "metadata": {
    "colab": {
     "base_uri": "https://localhost:8080/",
     "height": 472
    },
    "id": "RaBKG2Tw36GD",
    "outputId": "7b9d3b79-eb96-47d1-ed6c-9e7c13e50b71"
   },
   "outputs": [],
   "source": [
    "#Scatterplot of Merged Data\n",
    "merged_data.plot.scatter(x=\"Bitcoin_Price\", y=\"Crypto Currency Interest: (Worldwide)\", s=15)\n",
    "plt.title(\"Bitcoin_Price vs Crypto Currency Interest: (Worldwide)\")\n",
    "plt.xlabel(\"Bitcoin_Price\")\n",
    "plt.ylabel(\"Crypto Currency Interest: (Worldwide)\")\n",
    "plt.show()"
   ]
  },
  {
   "cell_type": "code",
   "execution_count": null,
   "metadata": {
    "colab": {
     "base_uri": "https://localhost:8080/",
     "height": 607
    },
    "id": "pnlbNJ-_36QX",
    "outputId": "31407336-8f8c-4cd2-f4e6-6689577ee930"
   },
   "outputs": [],
   "source": [
    "# Prepare data\n",
    "merged_data = merged_data.reset_index()\n",
    "btc_prices = merged_data['Bitcoin_Price']\n",
    "search_interest = merged_data['Crypto Currency Interest: (Worldwide)']\n",
    "dates = merged_data['Date']\n",
    "#dates= merged_data[merged_data.columns[0]]\n",
    "\n",
    "fig, axs = plt.subplots(1, 1, figsize=(8, 6))\n",
    "\n",
    "# Scatterplot of Bitcoin prices vs. Search Interest\n",
    "axs.scatter(search_interest, btc_prices, alpha=0.6, color='red')\n",
    "axs.set_title('BTC Price vs. Search Interest')\n",
    "axs.set_xlabel('Search Interest')\n",
    "axs.set_ylabel('BTC Price ($)')\n",
    "\n",
    "plt.tight_layout()\n",
    "plt.show()"
   ]
  },
  {
   "cell_type": "markdown",
   "metadata": {
    "id": "GuyfXy0H1JIV"
   },
   "source": [
    "To see the relationship between BTC Price and Cryptocurrency Search Interest more easily, plot the two data in one graph"
   ]
  },
  {
   "cell_type": "code",
   "execution_count": null,
   "metadata": {
    "colab": {
     "base_uri": "https://localhost:8080/",
     "height": 607
    },
    "id": "70Z31p1s4H6B",
    "outputId": "9135c35b-33e1-4c90-8618-4b9ea194e1e4"
   },
   "outputs": [],
   "source": [
    "# Set up the figure for the corrected time series plot\n",
    "fig, ax1 = plt.subplots(figsize=(10, 6))\n",
    "\n",
    "# Create a plot with BTC Price\n",
    "color = 'tab:orange'\n",
    "ax1.set_xlabel('Date')\n",
    "ax1.set_ylabel('BTC Price ($)', color=color)\n",
    "ax1.plot(dates, btc_prices, label='BTC Price', color='orange')\n",
    "ax1.tick_params(axis='y', labelcolor=color)\n",
    "\n",
    "# Create a second y-axis for the Search Interest\n",
    "ax2 = ax1.twinx()\n",
    "color = 'tab:blue'\n",
    "ax2.set_ylabel('Search Interest', color=color)\n",
    "ax2.plot(dates, search_interest, label='Search Interest', color='blue')\n",
    "ax2.tick_params(axis='y', labelcolor=color)\n",
    "\n",
    "# Add a title and a legend to the plot\n",
    "ax1.set_title('Time Series of BTC Price and Search Interest')\n",
    "fig.tight_layout()\n",
    "fig.legend(loc='upper left', bbox_to_anchor=(0.1, 0.9))\n",
    "\n",
    "plt.show()"
   ]
  },
  {
   "cell_type": "code",
   "execution_count": null,
   "metadata": {
    "id": "7EMyLyze4IRP"
   },
   "outputs": [],
   "source": [
    "# extracting the input and output vectors\n",
    "X = merged_data['Bitcoin_Price'].values.reshape(-1,1)  # converting to column vector\n",
    "y = merged_data['Crypto Currency Interest: (Worldwide)'].values\n",
    "\n",
    "# train-test split\n",
    "X_train, X_test, y_train, y_test = train_test_split(X, y, test_size=0.2, random_state=0)"
   ]
  },
  {
   "cell_type": "code",
   "execution_count": null,
   "metadata": {
    "colab": {
     "base_uri": "https://localhost:8080/",
     "height": 75
    },
    "id": "bARPu3RU4RHW",
    "outputId": "9030201e-e99b-4b6b-90b0-100f9d2d5cf3"
   },
   "outputs": [],
   "source": [
    "model = LinearRegression()\n",
    "model.fit(X_train, y_train)"
   ]
  },
  {
   "cell_type": "code",
   "execution_count": null,
   "metadata": {
    "colab": {
     "base_uri": "https://localhost:8080/"
    },
    "id": "TOc1waze4a70",
    "outputId": "e592d78e-989c-4e63-9baf-c3a060924791"
   },
   "outputs": [],
   "source": [
    "# finding intercept\n",
    "b = model.intercept_\n",
    "\n",
    "# finding slope\n",
    "m = model.coef_\n",
    "\n",
    "print(m, b, sep=\"\\n\")"
   ]
  },
  {
   "cell_type": "code",
   "execution_count": null,
   "metadata": {
    "id": "qyCpcKuh4bIX"
   },
   "outputs": [],
   "source": [
    "# Find R^2\n",
    "\n",
    "def r2(y_true, y_pred):\n",
    "  u = sum((y_true - y_pred)**2)\n",
    "  v = sum((y_true - y_true.mean())**2)\n",
    "\n",
    "  return 1-(u/v)"
   ]
  },
  {
   "cell_type": "code",
   "execution_count": null,
   "metadata": {
    "colab": {
     "base_uri": "https://localhost:8080/",
     "height": 474
    },
    "id": "oNVbcAyR4bQ7",
    "outputId": "f2378b9a-ef8d-41ab-ddf9-f23b4dcb7154"
   },
   "outputs": [],
   "source": [
    "rline = m[0]*X.flatten() + b\n",
    "\n",
    "merged_data.plot.scatter(x=\"Bitcoin_Price\", y=\"Crypto Currency Interest: (Worldwide)\", s=5)\n",
    "plt.plot(X.flatten(), rline, c=\"red\")\n",
    "plt.title(r\"$R^2: {:.2f}$\".format(r2(y, rline)))\n",
    "plt.xlabel(\"Bitcoin_Price\")\n",
    "plt.ylabel(\"Crypto Currency Interest: (Worldwide)\")\n",
    "plt.grid(True)\n",
    "plt.show()"
   ]
  },
  {
   "cell_type": "code",
   "execution_count": null,
   "metadata": {
    "colab": {
     "base_uri": "https://localhost:8080/"
    },
    "id": "C0O9M7Z34lCm",
    "outputId": "090aa5e8-37a2-4f80-cfc5-f09b5127ddc0"
   },
   "outputs": [],
   "source": [
    "from sklearn.linear_model import LinearRegression\n",
    "from sklearn.metrics import r2_score, mean_squared_error\n",
    "\n",
    "x = merged_data[['Bitcoin_Price']]\n",
    "y = merged_data['Crypto Currency Interest: (Worldwide)']\n",
    "\n",
    "#create linear regression model\n",
    "model = LinearRegression()\n",
    "model.fit(x, y)\n",
    "\n",
    "#R^2 score\n",
    "r2_value = r2_score(y, model.predict(x))\n",
    "\n",
    "#mean Squared Error (MSE)\n",
    "mse = mean_squared_error(y, model.predict(x))\n",
    "\n",
    "#error Rate calculated\n",
    "error_rate = mse / y.var()\n",
    "\n",
    "#accuracy rate\n",
    "accuracy_rate = 1 - error_rate\n",
    "\n",
    "r2_value, mse, error_rate, accuracy_rate"
   ]
  },
  {
   "cell_type": "code",
   "execution_count": null,
   "metadata": {
    "id": "GgmcIrP2djx5"
   },
   "outputs": [],
   "source": [
    "import statsmodels.api as sm\n",
    "\n",
    "# Add a constant to the independent variable matrix (required for statsmodels)\n",
    "X = sm.add_constant(merged_data['Bitcoin_Price'])\n",
    "Y = merged_data['Crypto Currency Interest: (Worldwide)']\n",
    "\n",
    "# Fit the linear regression model\n",
    "model = sm.OLS(Y, X).fit()"
   ]
  },
  {
   "cell_type": "code",
   "execution_count": null,
   "metadata": {
    "colab": {
     "base_uri": "https://localhost:8080/"
    },
    "id": "ro0eNcBAdkUn",
    "outputId": "f7ae7d32-fbb4-46ab-f1c1-317ce2f19eef"
   },
   "outputs": [],
   "source": [
    "print(model.summary())"
   ]
  },
  {
   "cell_type": "markdown",
   "metadata": {
    "id": "vieI-si2LKXY"
   },
   "source": [
    "## *STEP-3*\n",
    "\n",
    "Machine Learning Techniques Outcome"
   ]
  },
  {
   "cell_type": "markdown",
   "metadata": {
    "id": "9Q0-eKDIcADq"
   },
   "source": [
    "1) kNN Model\n",
    "\n",
    "1. Load the data\n",
    "2. Initialise the value of k\n",
    "3. Calculate the distance between the test data and each row of training data.\n",
    "4. Sort the calculated distances in ascending order based on distance values\n",
    "5. Get top k rows from the sorted array\n",
    "6. Get the most frequent class of these rows\n",
    "7. Return the predicted class"
   ]
  },
  {
   "cell_type": "code",
   "execution_count": null,
   "metadata": {
    "id": "Nni4b0YcLuS9"
   },
   "outputs": [],
   "source": [
    "# Some libraries and methods to use\n",
    "\n",
    "from sklearn.neighbors import KNeighborsRegressor\n",
    "from ipywidgets import interact\n",
    "from sklearn.neighbors import KNeighborsClassifier"
   ]
  },
  {
   "cell_type": "code",
   "execution_count": null,
   "metadata": {
    "id": "Ae14S9swhcHk"
   },
   "outputs": [],
   "source": [
    "# Define features and target variable\n",
    "A = merged_data[['Bitcoin_Price']]\n",
    "b = merged_data['Crypto Currency Interest: (Worldwide)']\n",
    "\n",
    "# Split the data into training, validation, and testing sets\n",
    "A_train_val, A_test, b_train_val, b_test = train_test_split(A, b, test_size=0.2, random_state=42)\n",
    "A_train, A_val, b_train, b_val = train_test_split(A_train_val, b_train_val, test_size=0.2, random_state=42)"
   ]
  },
  {
   "cell_type": "code",
   "execution_count": null,
   "metadata": {
    "colab": {
     "base_uri": "https://localhost:8080/"
    },
    "id": "FxST9hHXdWLC",
    "outputId": "65f21d2f-8eb1-47b4-f67f-426c6ba07961"
   },
   "outputs": [],
   "source": [
    "from sklearn.neighbors import KNeighborsRegressor\n",
    "from sklearn.metrics import mean_squared_error\n",
    "\n",
    "# Initialize and train the kNN model\n",
    "# Create a kNN regressor with k=5\n",
    "knn = KNeighborsRegressor(n_neighbors=5)\n",
    "knn.fit(A_train, b_train)\n",
    "\n",
    "# Predict on the test set\n",
    "# Predict the target values for the test data (A_test)\n",
    "knn_predictions = knn.predict(A_test)\n",
    "\n",
    "# Evaluate the model\n",
    "# Calculate the Mean Squared Error between the actual target values (b_test) and the predicted values (knn_predictions)\n",
    "knn_mse = mean_squared_error(b_test, knn_predictions)\n",
    "print(f'kNN Mean Squared Error: {knn_mse}')"
   ]
  },
  {
   "cell_type": "code",
   "execution_count": null,
   "metadata": {
    "colab": {
     "base_uri": "https://localhost:8080/",
     "height": 704,
     "referenced_widgets": [
      "81d6dee5526b480380be5125159f2477",
      "c561076ab5b547889c4f5754b899f5e0",
      "736b561299e04be4a92e762ac115cf45",
      "cc7e5ca4083442d4bee14fd60c2fffe4",
      "bc1c66dc714b4ba1a0ffaa2b74547388",
      "9aba57966bd748fe9f070bbfd5c516d9",
      "0fc7722b03064a8c865e13a8604a660e"
     ]
    },
    "id": "RgegzNRmk8tm",
    "outputId": "8053cd17-9e4c-4039-8636-48333906341b"
   },
   "outputs": [],
   "source": [
    "import pandas as pd\n",
    "import numpy as np\n",
    "import matplotlib.pyplot as plt\n",
    "from sklearn.model_selection import train_test_split\n",
    "from sklearn.neighbors import KNeighborsRegressor\n",
    "from sklearn.metrics import mean_squared_error\n",
    "from ipywidgets import interact\n",
    "\n",
    "# Interactive visualization function\n",
    "def visualize_knn(k):\n",
    "    # Generate the k-NN regressor model\n",
    "    model = KNeighborsRegressor(n_neighbors=k)\n",
    "\n",
    "    # Fit the model\n",
    "    # Train the k-NN model using the training data (A_train and b_train)\n",
    "    model.fit(A_train, b_train)\n",
    "\n",
    "    # Predict on the validation set\n",
    "    b_pred_val = model.predict(A_val)\n",
    "\n",
    "    # Calculate MSE and RMSE on validation set\n",
    "    mse_val = mean_squared_error(b_val, b_pred_val)\n",
    "    rmse_val = np.sqrt(mse_val)\n",
    "\n",
    "    # Predict on the test set\n",
    "    b_pred_test = model.predict(A_test)\n",
    "\n",
    "    # Calculate MSE and RMSE on test set\n",
    "    mse_test = mean_squared_error(b_test, b_pred_test)\n",
    "    rmse_test = np.sqrt(mse_test)\n",
    "\n",
    "    # Plot actual vs. predicted values for test set\n",
    "    plt.figure(figsize=(10, 6))\n",
    "    plt.scatter(b_test, b_pred_test, color='blue', alpha=0.5)\n",
    "    plt.plot([b_test.min(), b_test.max()], [b_test.min(), b_test.max()], 'k--', linewidth=2)\n",
    "    plt.xlabel('Actual Values')\n",
    "    plt.ylabel('Predicted Values')\n",
    "    plt.title(f'k-NN (n_neighbors={k}) Predictions\\nTest RMSE: {rmse_test:.2f}, Validation RMSE: {rmse_val:.2f}')\n",
    "    plt.show()\n",
    "\n",
    "# Use ipywidgets to interactively change the value of k\n",
    "interact(visualize_knn,k=(1,20))"
   ]
  },
  {
   "cell_type": "code",
   "execution_count": null,
   "metadata": {
    "id": "PfHAx3PEL_jD"
   },
   "outputs": [],
   "source": [
    "#Create an instance of the k-Nearest Neighbors regressor with k=1\n",
    "\n",
    "knn1 = KNeighborsRegressor(n_neighbors=1)\n",
    "\n",
    "# Fit the model\n",
    "knn1.fit(A_train, b_train)\n",
    "\n",
    "# Predict on the test set\n",
    "b_pred_1 = knn1.predict(A_test)\n",
    "\n",
    "# Predict on the validation set\n",
    "val_b_pred_1 = knn1.predict(A_val)"
   ]
  },
  {
   "cell_type": "code",
   "execution_count": null,
   "metadata": {
    "colab": {
     "base_uri": "https://localhost:8080/",
     "height": 676
    },
    "id": "RLcJDItiL_2v",
    "outputId": "6c4ec3de-efe3-4a01-a41f-4b8ef7b1e0a4"
   },
   "outputs": [],
   "source": [
    "#Visualize k-Nearest Neighbors regressor with k=1\n",
    "\n",
    "plt.figure(figsize=(10, 6))\n",
    "\n",
    "#Scatter plot for k-NN with n_neighbors=1\n",
    "\n",
    "plt.scatter(b_test, b_pred_1, color='red', alpha=0.75)\n",
    "plt.plot([b_test.min(), b_test.max()], [b_test.min(), b_test.max()], 'k--', linewidth=2)\n",
    "plt.xlabel('Actual Values')\n",
    "plt.ylabel('Predicted Values')\n",
    "plt.title('k-NN (n_neighbors=1) Predictions')\n",
    "\n",
    "rmse1 = np.sqrt(mean_squared_error(b_test, b_pred_1))\n",
    "mse1 = mean_squared_error(b_test, b_pred_1)\n",
    "\n",
    "val_rmse1 = np.sqrt(mean_squared_error(b_val, val_b_pred_1))\n",
    "val_mse1 = mean_squared_error(b_val, val_b_pred_1)\n",
    "\n",
    "#Display the plots\n",
    "plt.tight_layout()\n",
    "plt.show()\n",
    "\n",
    "#Display the values RMSE with k =1 and MSE\n",
    "print(f\"RMSE1: {rmse1:.2f}\")\n",
    "print(f\"Validation RMSE1: {val_rmse1:.2f}\")\n",
    "print(f\"MSE1: {mse1:.2f}\")\n",
    "print(f\"Validation MSE1: {val_mse1:.2f}\")"
   ]
  },
  {
   "cell_type": "code",
   "execution_count": null,
   "metadata": {
    "id": "1wpmMFFuPG7Y"
   },
   "outputs": [],
   "source": [
    "knn10 = KNeighborsRegressor(n_neighbors = 10)\n",
    "\n",
    "knn10.fit(A_train, b_train)\n",
    "\n",
    "b_pred_10 = knn10.predict(A_test)\n",
    "val_b_pred_10 = knn10.predict(A_val)"
   ]
  },
  {
   "cell_type": "code",
   "execution_count": null,
   "metadata": {
    "colab": {
     "base_uri": "https://localhost:8080/",
     "height": 676
    },
    "id": "QOhRt9gfPG4y",
    "outputId": "e3f4515d-8750-46d5-b7c3-15acb44977db"
   },
   "outputs": [],
   "source": [
    "plt.figure(figsize=(10, 6))\n",
    "\n",
    "#Scatter plot for k-NN with n_neighbors=10\n",
    "#plt.subplot(1, 2, 1)\n",
    "plt.scatter(b_test, b_pred_10, color='green', alpha=0.75)\n",
    "plt.plot([b_test.min(), b_test.max()], [b_test.min(), b_test.max()], 'k--', linewidth=2)\n",
    "plt.xlabel('Actual Values')\n",
    "plt.ylabel('Predicted Values')\n",
    "plt.title('k-NN (n_neighbors=10) Predictions')\n",
    "rmse10 = np.sqrt(mean_squared_error(b_test, b_pred_10))\n",
    "mse10 = mean_squared_error(b_test, b_pred_10)\n",
    "\n",
    "val_rmse10 = np.sqrt(mean_squared_error(b_val, val_b_pred_10))\n",
    "val_mse10 = mean_squared_error(b_val, val_b_pred_10)\n",
    "\n",
    "#Display the plots\n",
    "plt.tight_layout()\n",
    "plt.show()\n",
    "\n",
    "#Display the values RMSE with k =10 and MSE\n",
    "print(f\"Test RMSE10: {rmse10:.2f}\")\n",
    "print(f\"Validation RMSE10: {val_rmse10:.2f}\")\n",
    "print(f\"MSE10: {mse10:.2f}\")\n",
    "print(f\"Validation MSE10: {val_mse10:.2f}\")"
   ]
  },
  {
   "cell_type": "code",
   "execution_count": null,
   "metadata": {
    "colab": {
     "base_uri": "https://localhost:8080/",
     "height": 564
    },
    "id": "Li5LcB1jMdSG",
    "outputId": "82c0f1ec-ddb0-420e-b5bd-a185c0699873"
   },
   "outputs": [],
   "source": [
    "# RMSE calculation for different k values\n",
    "K_range = np.arange(1, 20)\n",
    "rmse_list = []\n",
    "\n",
    "for k in K_range:\n",
    "    # Create a new model with current K\n",
    "    knn = KNeighborsRegressor(n_neighbors=k, metric=\"euclidean\")\n",
    "\n",
    "    # Fit training data\n",
    "    knn.fit(A_train, b_train)\n",
    "\n",
    "    # Predict the validation data\n",
    "    b_pred_val = knn.predict(A_val)\n",
    "\n",
    "    # Obtain the RMSE value\n",
    "    rmse = np.sqrt(mean_squared_error(b_val, b_pred_val))\n",
    "    rmse_list.append(rmse)\n",
    "\n",
    "plt.figure(figsize=(12, 6))\n",
    "plt.plot(K_range, rmse_list, color='black', linestyle='dashed', marker='o',\n",
    "         markerfacecolor='red', markersize=10)\n",
    "plt.title('RMSE of the Validation Data w/ K')\n",
    "plt.xlabel('K')\n",
    "plt.ylabel('RMSE')\n",
    "plt.xticks(K_range)\n",
    "plt.grid()\n",
    "plt.show()"
   ]
  },
  {
   "cell_type": "markdown",
   "metadata": {
    "id": "f7179Gp-u-ay"
   },
   "source": [
    "Find kNN Model Accuracy for k=13"
   ]
  },
  {
   "cell_type": "code",
   "execution_count": null,
   "metadata": {
    "colab": {
     "base_uri": "https://localhost:8080/"
    },
    "id": "qylKAItuTTy7",
    "outputId": "8f3edd82-d072-492e-f08f-d83e3c3fb5fc"
   },
   "outputs": [],
   "source": [
    "import numpy as np\n",
    "import pandas as pd\n",
    "from sklearn.preprocessing import MinMaxScaler, KBinsDiscretizer\n",
    "from sklearn.model_selection import train_test_split\n",
    "from sklearn.neighbors import KNeighborsClassifier\n",
    "from sklearn.metrics import accuracy_score\n",
    "\n",
    "\n",
    "# Remove commas and convert to float\n",
    "\n",
    "merged_data['Bitcoin_Price'] = merged_data['Bitcoin_Price'].astype(str).str.replace(',', '').astype(float)\n",
    "\n",
    "\n",
    "# Normalize the features\n",
    "# Apply MinMaxScaler to normalize 'Crypto Currency Interest: (Worldwide)' and 'Bitcoin_Price' columns\n",
    "\n",
    "scaler = MinMaxScaler()\n",
    "merged_data[['Crypto Currency Interest: (Worldwide)', 'Bitcoin_Price']] = scaler.fit_transform(\n",
    "    merged_data[['Crypto Currency Interest: (Worldwide)', 'Bitcoin_Price']])\n",
    "\n",
    "# Convert the target variable into discrete classes\n",
    "# Apply KBinsDiscretizer to convert 'Bitcoin_Price' into 3 discrete classes\n",
    "\n",
    "k_bins = KBinsDiscretizer(n_bins=3, encode='ordinal', strategy='uniform')\n",
    "merged_data['Price_Class'] = k_bins.fit_transform(merged_data[['Bitcoin_Price']]).astype(int)\n",
    "\n",
    "\n",
    "# Define features and target\n",
    "# Set 'Crypto Currency Interest: (Worldwide)' as the feature (X) and 'Price_Class' as the target (y)\n",
    "\n",
    "X = merged_data[['Crypto Currency Interest: (Worldwide)']].values\n",
    "y = merged_data['Price_Class'].values\n",
    "\n",
    "# Split the data into training and testing sets\n",
    "# Use train_test_split to split the data into training and testing sets (80% train, 20% test)\n",
    "\n",
    "X_train, X_test, y_train, y_test = train_test_split(X, y, test_size=0.2, random_state=42)\n",
    "\n",
    "# Initialize and train the kNN model\n",
    "# Create a kNN classifier with k=13\n",
    "\n",
    "k = 3\n",
    "knn = KNeighborsClassifier(n_neighbors=k)\n",
    "knn.fit(X_train, y_train)   # Train the kNN model using the training data (X_train and y_train)\n",
    "\n",
    "# Predict and evaluate the model\n",
    "\n",
    "y_pred = knn.predict(X_test) # Predict the target values for the test data (X_test)\n",
    "\n",
    "accuracy = accuracy_score(y_test, y_pred)  # Calculate the accuracy of the model\n",
    "\n",
    "print(f'kNN Model Accuracy: {accuracy}')\n"
   ]
  },
  {
   "cell_type": "code",
   "execution_count": null,
   "metadata": {
    "colab": {
     "base_uri": "https://localhost:8080/"
    },
    "id": "DX9cqCn_PG0I",
    "outputId": "93be9dff-6aec-4409-e6a3-63c101cdc6dc"
   },
   "outputs": [],
   "source": [
    "knn_best = KNeighborsRegressor(n_neighbors=13, metric=\"euclidean\")\n",
    "knn_best.fit(A_train, b_train)\n",
    "\n",
    "#Predict the test data\n",
    "b_pred_best = knn_best.predict(A_test)\n",
    "\n",
    "#Obtain the RMSE value\n",
    "rmse = np.sqrt(mean_squared_error(b_test, b_pred_best))\n",
    "mse = mean_squared_error(b_test, b_pred_best)\n",
    "print(f\"RMSE: {rmse}\")\n",
    "print(f\"MSE: {mse:}\")"
   ]
  },
  {
   "cell_type": "code",
   "execution_count": null,
   "metadata": {
    "colab": {
     "base_uri": "https://localhost:8080/",
     "height": 607
    },
    "id": "2T2ttfVMPGxh",
    "outputId": "79eefa87-de4c-41c3-876b-f36b1a61d3c2"
   },
   "outputs": [],
   "source": [
    "plt.figure(figsize=(14, 6))\n",
    "\n",
    "#Scatter plot for k-NN with n_neighbors=13\n",
    "plt.subplot(1, 2, 1)\n",
    "plt.scatter(b_test, b_pred_best, color='purple', alpha=0.5)\n",
    "plt.plot([b_test.min(), b_test.max()], [b_test.min(), b_test.max()], 'k--', linewidth=2)\n",
    "plt.xlabel('Actual Values')\n",
    "plt.ylabel('Predicted Values')\n",
    "plt.title('k-NN Best Prediction')\n",
    "\n",
    "#Display the plots\n",
    "plt.tight_layout()\n",
    "plt.show()"
   ]
  },
  {
   "cell_type": "markdown",
   "metadata": {
    "id": "PEfKnKUMZPA6"
   },
   "source": [
    "# **Second ML - Random Forest**"
   ]
  },
  {
   "cell_type": "markdown",
   "metadata": {
    "id": "Rdp0NuFokvjW"
   },
   "source": [
    "**Random Forest** is *supervised* machine learning algorithms which can be used for both *classification* and *regression* problems."
   ]
  },
  {
   "cell_type": "code",
   "execution_count": null,
   "metadata": {
    "id": "t9J1ao0ik9k2"
   },
   "outputs": [],
   "source": [
    "# Define features and target variable\n",
    "X = merged_data[['Bitcoin_Price']]\n",
    "y = merged_data['Crypto Currency Interest: (Worldwide)']\n",
    "\n",
    "# Split the data into training, validation, and testing sets\n",
    "X_train_val, X_test, y_train_val, y_test = train_test_split(X, y, test_size=0.2, random_state=42)\n",
    "X_train, X_val, y_train, y_val = train_test_split(X_train_val, y_train_val, test_size=0.2, random_state=42)"
   ]
  },
  {
   "cell_type": "code",
   "execution_count": null,
   "metadata": {
    "colab": {
     "base_uri": "https://localhost:8080/"
    },
    "id": "uCuVbQ4PqmAI",
    "outputId": "6a6efee7-3aac-45c3-aae7-a25952787009"
   },
   "outputs": [],
   "source": [
    "from sklearn.metrics import accuracy_score, classification_report\n",
    "import numpy as np\n",
    "\n",
    "# Set up kNN with K=12\n",
    "knn = KNeighborsClassifier(n_neighbors=13, metric=\"euclidean\")\n",
    "knn.fit(X_train, y_train)  # Fit the model on training data\n",
    "y_pred_knn = knn.predict(X_test)  # Predict on test data\n",
    "\n",
    "# Evaluation\n",
    "knn_accuracy = accuracy_score(y_test, y_pred_knn)\n",
    "knn_report = classification_report(y_test, y_pred_knn)\n",
    "print(\"kNN Model Accuracy:\", knn_accuracy)"
   ]
  },
  {
   "cell_type": "code",
   "execution_count": null,
   "metadata": {
    "colab": {
     "base_uri": "https://localhost:8080/"
    },
    "id": "bDR8XQqmPGsR",
    "outputId": "4d07edb0-98c6-4f15-aad9-e0ab53a6e772"
   },
   "outputs": [],
   "source": [
    "from sklearn.ensemble import RandomForestRegressor\n",
    "\n",
    "rf_model_75 = RandomForestRegressor(n_estimators=75, random_state=42, max_depth=15)\n",
    "rf_model_75.fit(A_train, b_train)\n",
    "\n",
    "b_pred_75 = rf_model_75.predict(A_test)\n",
    "\n",
    "# Evaluate the model\n",
    "mse = mean_squared_error(b_test, b_pred_75)\n",
    "rmse = np.sqrt(mse)\n",
    "\n",
    "print(f\"Mean Squared Error: {mse}\")\n",
    "print(f\"Root Mean Squared Error: {rmse}\")"
   ]
  },
  {
   "cell_type": "code",
   "execution_count": null,
   "metadata": {
    "colab": {
     "base_uri": "https://localhost:8080/",
     "height": 607
    },
    "id": "KfNkTISVPGnU",
    "outputId": "77175d03-b053-4911-c96b-488a84bafc0c"
   },
   "outputs": [],
   "source": [
    "plt.figure(figsize=(7.5, 6))\n",
    "# Scatter plot for Random Forest Predictions\n",
    "plt.scatter(b_test, b_pred_75, color='brown', alpha=0.75)\n",
    "plt.plot([b_test.min(), b_test.max()], [b_test.min(), b_test.max()], 'k--', linewidth=2)\n",
    "plt.xlabel('Actual Values')\n",
    "plt.ylabel('Predicted Values')\n",
    "plt.title('Random Forest Predictions for estimator = 75')\n",
    "\n",
    "plt.tight_layout()\n",
    "plt.show()"
   ]
  },
  {
   "cell_type": "code",
   "execution_count": null,
   "metadata": {
    "colab": {
     "base_uri": "https://localhost:8080/"
    },
    "id": "Z7cAXMgxPGk5",
    "outputId": "ae081d87-4b27-4d6a-cbe6-8b6a49a0a9de"
   },
   "outputs": [],
   "source": [
    "rf_model_400 = RandomForestRegressor(n_estimators=400, random_state=42, max_depth=15)\n",
    "rf_model_400.fit(A_train, b_train)\n",
    "\n",
    "b_pred_400 = rf_model_400.predict(A_test)\n",
    "\n",
    "# Evaluate the model\n",
    "mse = mean_squared_error(b_test, b_pred_400)\n",
    "rmse = np.sqrt(mse)\n",
    "\n",
    "print(f\"Mean Squared Error: {mse}\")\n",
    "print(f\"Root Mean Squared Error: {rmse}\")"
   ]
  },
  {
   "cell_type": "code",
   "execution_count": null,
   "metadata": {
    "colab": {
     "base_uri": "https://localhost:8080/",
     "height": 607
    },
    "id": "hFAJiDjVYYKq",
    "outputId": "98985a36-cb0a-48c9-a691-dc4e38aaa223"
   },
   "outputs": [],
   "source": [
    "plt.figure(figsize=(7.5, 6))\n",
    "# Scatter plot for Random Forest Predictions\n",
    "plt.scatter(b_test, b_pred_400, color='blue', alpha=0.75)\n",
    "plt.plot([b_test.min(), b_test.max()], [b_test.min(), b_test.max()], 'k--', linewidth=2)\n",
    "plt.xlabel('Actual Values')\n",
    "plt.ylabel('Predicted Values')\n",
    "plt.title('Random Forest Predictions for estimator = 400')\n",
    "\n",
    "plt.tight_layout()\n",
    "plt.show()"
   ]
  },
  {
   "cell_type": "code",
   "execution_count": null,
   "metadata": {
    "colab": {
     "base_uri": "https://localhost:8080/"
    },
    "id": "qg55tNdmYYqw",
    "outputId": "7258f86e-ed8d-4771-e989-1c2729be3055"
   },
   "outputs": [],
   "source": [
    "rf_model_best = RandomForestRegressor(n_estimators=100, random_state=42, max_depth=5)\n",
    "rf_model_best.fit(A_train, b_train)\n",
    "\n",
    "b_pred_best = rf_model_best.predict(A_test)\n",
    "\n",
    "# Evaluate the model\n",
    "mse = mean_squared_error(b_test, b_pred_best)\n",
    "rmse = np.sqrt(mse)\n",
    "\n",
    "print(f\"Mean Squared Error: {mse}\")\n",
    "print(f\"Root Mean Squared Error: {rmse}\")"
   ]
  },
  {
   "cell_type": "code",
   "execution_count": null,
   "metadata": {
    "colab": {
     "base_uri": "https://localhost:8080/",
     "height": 607
    },
    "id": "sIbM3oP1YY4N",
    "outputId": "a93a88be-f673-417f-c914-08c3604977a1"
   },
   "outputs": [],
   "source": [
    "plt.figure(figsize=(7.5, 6))\n",
    "# Scatter plot for Random Forest Predictions\n",
    "plt.scatter(b_test, b_pred_best, color='green', alpha=0.5)\n",
    "plt.plot([b_test.min(), b_test.max()], [b_test.min(), b_test.max()], 'k--', linewidth=2)\n",
    "plt.xlabel('Actual Values')\n",
    "plt.ylabel('Predicted Values')\n",
    "plt.title('Random Forest Predictions for Best Estimator')\n",
    "\n",
    "plt.tight_layout()\n",
    "plt.show()"
   ]
  },
  {
   "cell_type": "code",
   "execution_count": null,
   "metadata": {
    "colab": {
     "base_uri": "https://localhost:8080/",
     "height": 718
    },
    "id": "TORUBFDQYZET",
    "outputId": "154a6d05-be39-40c0-bcbc-d662933ea9ea"
   },
   "outputs": [],
   "source": [
    "L = merged_data[['Bitcoin_Price']]\n",
    "i = merged_data['Crypto Currency Interest: (Worldwide)']\n",
    "\n",
    "# Split the data into training and testing sets\n",
    "L_train, L_test, i_train, i_test = train_test_split(L, i, test_size=0.2, random_state=42)\n",
    "\n",
    "# Define the parameter grid for max_depth and n_estimators\n",
    "max_depth_range = [5, 10, 15, 20]\n",
    "n_estimators_range = np.arange(25, 500, 25)\n",
    "\n",
    "# Initialize the results dictionary\n",
    "results = {'max_depth': [], 'n_estimators': [], 'rmse': []}\n",
    "\n",
    "# Perform grid search\n",
    "for max_depth in max_depth_range:\n",
    "    for n_estimators in n_estimators_range:\n",
    "        # Initialize the Random Forest Regressor\n",
    "        rf = RandomForestRegressor(max_depth=max_depth, n_estimators=n_estimators, random_state=42)\n",
    "\n",
    "        # Train the model\n",
    "        rf.fit(L_train, i_train)\n",
    "\n",
    "        # Predict on the test set\n",
    "        i_pred = rf.predict(L_test)\n",
    "\n",
    "        # Calculate RMSE\n",
    "        rmse = np.sqrt(mean_squared_error(i_test, i_pred))\n",
    "\n",
    "        # Store the results\n",
    "        results['max_depth'].append(max_depth)\n",
    "        results['n_estimators'].append(n_estimators)\n",
    "        results['rmse'].append(rmse)\n",
    "\n",
    "results_df = pd.DataFrame(results)\n",
    "\n",
    "# Pivot the results DataFrame for heatmap plotting\n",
    "results_pivot = results_df.pivot(index='max_depth', columns='n_estimators', values='rmse')\n",
    "\n",
    "\n",
    "# Plot the heatmap\n",
    "plt.figure(figsize=(12, 8))\n",
    "sns.heatmap(results_pivot, annot=True, fmt=\".2f\", cmap=\"YlOrRd\")\n",
    "plt.title('RMSE with Different max_depth and n_estimators in Random Forest')\n",
    "plt.xlabel('Number of Estimators')\n",
    "plt.ylabel('Max Depth')\n",
    "plt.show()"
   ]
  }
 ],
 "metadata": {
  "colab": {
   "provenance": []
  },
  "kernelspec": {
   "display_name": "Python 3",
   "name": "python3"
  },
  "language_info": {
   "name": "python"
  }
 },
 "nbformat": 4,
 "nbformat_minor": 0
}
